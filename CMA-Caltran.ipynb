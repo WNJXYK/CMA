{
 "cells": [
  {
   "cell_type": "code",
   "execution_count": 1,
   "id": "7b8c8890-c9fd-4627-85ac-65332c480eca",
   "metadata": {},
   "outputs": [],
   "source": [
    "from scipy import io\n",
    "from scipy import stats\n",
    "import numpy as np\n",
    "from sklearn.svm import LinearSVC\n",
    "from sklearn.neighbors import KNeighborsClassifier\n",
    "from sklearn.metrics import accuracy_score\n",
    "from cma import CMA\n",
    "import pandas as pd"
   ]
  },
  {
   "cell_type": "markdown",
   "id": "78d3ee10-4124-463c-a606-80fac54ae619",
   "metadata": {},
   "source": [
    "# Config"
   ]
  },
  {
   "cell_type": "code",
   "execution_count": 2,
   "id": "e00b6d20-3539-48a1-b39f-14f82fc706a4",
   "metadata": {},
   "outputs": [],
   "source": [
    "ns = 50          # Number of labeled data\n",
    "testLen = 480    # Number of test images\n",
    "block_size = 2   # Number of test block size\n",
    "startIdxArray = [350, 400, 450, 500, 550]   # Array of starting index\n",
    "alpha = 1.5      # Forgetting parameter for online subspace learning\n",
    "dim = 10         # Numeber of dims\n",
    "C = 1\n",
    "\n",
    "def bind_args(config):\n",
    "    class ArgsObject: pass\n",
    "    args = ArgsObject()\n",
    "    for k in config:\n",
    "        setattr(args, k, config[k])\n",
    "    return args"
   ]
  },
  {
   "cell_type": "markdown",
   "id": "f953a8b0-b96a-4f88-81d2-6790443e745e",
   "metadata": {},
   "source": [
    "# Load & Process data"
   ]
  },
  {
   "cell_type": "code",
   "execution_count": 3,
   "id": "0a76593d-f925-46e4-91ec-58d0a0d4692c",
   "metadata": {},
   "outputs": [],
   "source": [
    "# Load data\n",
    "X = io.loadmat(\"./data/caltran_gist.mat\")\n",
    "y = io.loadmat(\"./data/caltran_dataset_labels.mat\")\n",
    "features = np.array(X['data']['features'][0][0])\n",
    "names = y['names']\n",
    "labels = np.array(y['labels']).T\n",
    "# Delete NAN\n",
    "ids = ~np.isnan(features).any(axis=1)\n",
    "features = features[ids, :]\n",
    "labels = labels[ids, :]\n",
    "names  = names[ids, :]\n",
    "# Perform L1 Zscore\n",
    "features = features / np.repeat(np.sum(np.abs(features), keepdims=True, axis=0), features.shape[0], axis=0)\n",
    "features = stats.zscore(features, axis=1)"
   ]
  },
  {
   "cell_type": "markdown",
   "id": "70ad5156-bf14-41b7-ab61-dff350a41450",
   "metadata": {},
   "source": [
    "# Experiment Func"
   ]
  },
  {
   "cell_type": "code",
   "execution_count": 4,
   "id": "2054e5ac-c8f6-41e4-b8d8-623d6396de8e",
   "metadata": {},
   "outputs": [],
   "source": [
    "def experiment(startIdx, model):\n",
    "    Xs, ys = features[startIdx: startIdx+ns, :], labels[startIdx: startIdx+ns, :]\n",
    "    Xt, yt = features[startIdx+ns: startIdx+ns+testLen, :], labels[startIdx+ns: startIdx+ns+testLen, :]\n",
    "    model.fit(Xs, ys.ravel())\n",
    "    \n",
    "    T = Xt.shape[0]\n",
    "    preds = []\n",
    "    for i in range(0, T, block_size):\n",
    "        X = Xt[i: i+block_size, :]\n",
    "        preds.append(model.predict(X))\n",
    "    return accuracy_score(yt, np.concatenate(preds))"
   ]
  },
  {
   "cell_type": "markdown",
   "id": "34863526-b6c6-4b56-99cf-04fc9f91a522",
   "metadata": {},
   "source": [
    "# Experiments"
   ]
  },
  {
   "cell_type": "code",
   "execution_count": 5,
   "id": "457e4858-b8b8-4726-aebf-4d684c63f38c",
   "metadata": {},
   "outputs": [
    {
     "name": "stderr",
     "output_type": "stream",
     "text": [
      "/home/wnjxyk/miniconda3/envs/ML38/lib/python3.8/site-packages/sklearn/svm/_base.py:1206: ConvergenceWarning: Liblinear failed to converge, increase the number of iterations.\n",
      "  warnings.warn(\n",
      "/home/wnjxyk/miniconda3/envs/ML38/lib/python3.8/site-packages/sklearn/svm/_base.py:1206: ConvergenceWarning: Liblinear failed to converge, increase the number of iterations.\n",
      "  warnings.warn(\n",
      "/home/wnjxyk/miniconda3/envs/ML38/lib/python3.8/site-packages/sklearn/svm/_base.py:1206: ConvergenceWarning: Liblinear failed to converge, increase the number of iterations.\n",
      "  warnings.warn(\n",
      "/home/wnjxyk/miniconda3/envs/ML38/lib/python3.8/site-packages/sklearn/svm/_base.py:1206: ConvergenceWarning: Liblinear failed to converge, increase the number of iterations.\n",
      "  warnings.warn(\n"
     ]
    }
   ],
   "source": [
    "models = {\n",
    "    \"KNN\": KNeighborsClassifier(weights=\"distance\"),\n",
    "    \"SVM\": LinearSVC(C=C),\n",
    "    \"KNN_cgfk\": CMA(KNeighborsClassifier(weights=\"distance\"), **{'alpha': alpha, 'dim': dim, 'mode': 'cgfk'}),\n",
    "    \"KNN_csa\": CMA(KNeighborsClassifier(weights=\"distance\"), **{'alpha': alpha, 'dim': dim, 'mode': 'csa'}),\n",
    "    \"SVM_cgfk\": CMA(LinearSVC(C=C), **{'alpha': alpha, 'dim': dim, 'mode': 'cgfk'}),\n",
    "    \"SVM_csa\": CMA(LinearSVC(C=C), **{'alpha': alpha, 'dim': dim, 'mode': 'csa'}),\n",
    "}\n",
    "\n",
    "results = pd.DataFrame(columns=[k for k in models])\n",
    "\n",
    "for startIdx in startIdxArray:\n",
    "    acc_arr = []\n",
    "    for key in models:\n",
    "        acc = experiment(startIdx, models[key]) * 100\n",
    "        acc_arr.append(acc)\n",
    "    results.loc[startIdx] = acc_arr\n",
    "\n",
    "results.loc[\"Mean\"], results.loc[\"Std\"] = results.mean(), results.std() / np.sqrt(len(startIdxArray))"
   ]
  },
  {
   "cell_type": "code",
   "execution_count": 6,
   "id": "e0713aa5-a927-4487-8924-7557b0ea07c8",
   "metadata": {},
   "outputs": [
    {
     "data": {
      "text/html": [
       "<div>\n",
       "<style scoped>\n",
       "    .dataframe tbody tr th:only-of-type {\n",
       "        vertical-align: middle;\n",
       "    }\n",
       "\n",
       "    .dataframe tbody tr th {\n",
       "        vertical-align: top;\n",
       "    }\n",
       "\n",
       "    .dataframe thead th {\n",
       "        text-align: right;\n",
       "    }\n",
       "</style>\n",
       "<table border=\"1\" class=\"dataframe\">\n",
       "  <thead>\n",
       "    <tr style=\"text-align: right;\">\n",
       "      <th></th>\n",
       "      <th>KNN</th>\n",
       "      <th>SVM</th>\n",
       "      <th>KNN_cgfk</th>\n",
       "      <th>KNN_csa</th>\n",
       "      <th>SVM_cgfk</th>\n",
       "      <th>SVM_csa</th>\n",
       "    </tr>\n",
       "  </thead>\n",
       "  <tbody>\n",
       "    <tr>\n",
       "      <th>350</th>\n",
       "      <td>63.96</td>\n",
       "      <td>77.50</td>\n",
       "      <td>66.46</td>\n",
       "      <td>69.17</td>\n",
       "      <td>84.79</td>\n",
       "      <td>84.79</td>\n",
       "    </tr>\n",
       "    <tr>\n",
       "      <th>400</th>\n",
       "      <td>65.21</td>\n",
       "      <td>72.08</td>\n",
       "      <td>64.17</td>\n",
       "      <td>64.17</td>\n",
       "      <td>73.96</td>\n",
       "      <td>74.17</td>\n",
       "    </tr>\n",
       "    <tr>\n",
       "      <th>450</th>\n",
       "      <td>56.46</td>\n",
       "      <td>69.58</td>\n",
       "      <td>56.67</td>\n",
       "      <td>56.88</td>\n",
       "      <td>72.50</td>\n",
       "      <td>72.71</td>\n",
       "    </tr>\n",
       "    <tr>\n",
       "      <th>500</th>\n",
       "      <td>56.04</td>\n",
       "      <td>72.08</td>\n",
       "      <td>52.92</td>\n",
       "      <td>53.54</td>\n",
       "      <td>66.25</td>\n",
       "      <td>67.71</td>\n",
       "    </tr>\n",
       "    <tr>\n",
       "      <th>550</th>\n",
       "      <td>55.00</td>\n",
       "      <td>71.67</td>\n",
       "      <td>55.00</td>\n",
       "      <td>53.96</td>\n",
       "      <td>76.25</td>\n",
       "      <td>79.38</td>\n",
       "    </tr>\n",
       "    <tr>\n",
       "      <th>Mean</th>\n",
       "      <td>59.33</td>\n",
       "      <td>72.58</td>\n",
       "      <td>59.04</td>\n",
       "      <td>59.54</td>\n",
       "      <td>74.75</td>\n",
       "      <td>75.75</td>\n",
       "    </tr>\n",
       "    <tr>\n",
       "      <th>Std</th>\n",
       "      <td>2.17</td>\n",
       "      <td>1.31</td>\n",
       "      <td>2.65</td>\n",
       "      <td>3.07</td>\n",
       "      <td>3.01</td>\n",
       "      <td>2.93</td>\n",
       "    </tr>\n",
       "  </tbody>\n",
       "</table>\n",
       "</div>"
      ],
      "text/plain": [
       "        KNN    SVM  KNN_cgfk  KNN_csa  SVM_cgfk  SVM_csa\n",
       "350   63.96  77.50     66.46    69.17     84.79    84.79\n",
       "400   65.21  72.08     64.17    64.17     73.96    74.17\n",
       "450   56.46  69.58     56.67    56.88     72.50    72.71\n",
       "500   56.04  72.08     52.92    53.54     66.25    67.71\n",
       "550   55.00  71.67     55.00    53.96     76.25    79.38\n",
       "Mean  59.33  72.58     59.04    59.54     74.75    75.75\n",
       "Std    2.17   1.31      2.65     3.07      3.01     2.93"
      ]
     },
     "execution_count": 6,
     "metadata": {},
     "output_type": "execute_result"
    }
   ],
   "source": [
    "results.round(2)"
   ]
  }
 ],
 "metadata": {
  "kernelspec": {
   "display_name": "ML38",
   "language": "python",
   "name": "ml38"
  },
  "language_info": {
   "codemirror_mode": {
    "name": "ipython",
    "version": 3
   },
   "file_extension": ".py",
   "mimetype": "text/x-python",
   "name": "python",
   "nbconvert_exporter": "python",
   "pygments_lexer": "ipython3",
   "version": "3.8.12"
  }
 },
 "nbformat": 4,
 "nbformat_minor": 5
}
